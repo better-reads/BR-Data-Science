{
  "nbformat": 4,
  "nbformat_minor": 0,
  "metadata": {
    "kernelspec": {
      "display_name": "conda_python3",
      "language": "python",
      "name": "conda_python3"
    },
    "language_info": {
      "codemirror_mode": {
        "name": "ipython",
        "version": 3
      },
      "file_extension": ".py",
      "mimetype": "text/x-python",
      "name": "python",
      "nbconvert_exporter": "python",
      "pygments_lexer": "ipython3",
      "version": "3.6.5"
    },
    "colab": {
      "name": "Monday_notebook_baseline_model.ipynb",
      "version": "0.3.2",
      "provenance": []
    }
  },
  "cells": [
    {
      "cell_type": "code",
      "metadata": {
        "id": "CPalb3NTXTtf",
        "colab_type": "code",
        "colab": {}
      },
      "source": [
        "!pip install spacy"
      ],
      "execution_count": 0,
      "outputs": []
    },
    {
      "cell_type": "code",
      "metadata": {
        "id": "yqt7qdTfXTts",
        "colab_type": "code",
        "colab": {}
      },
      "source": [
        "!python -m spacy download en_core_web_lg"
      ],
      "execution_count": 0,
      "outputs": []
    },
    {
      "cell_type": "code",
      "metadata": {
        "id": "Prdi9YFqXTt2",
        "colab_type": "code",
        "colab": {}
      },
      "source": [
        "import pandas as pd\n",
        "import numpy as np\n",
        "import spacy\n",
        "from spacy.lang.en import English"
      ],
      "execution_count": 0,
      "outputs": []
    },
    {
      "cell_type": "code",
      "metadata": {
        "id": "uMc9XaiRXTt_",
        "colab_type": "code",
        "colab": {},
        "outputId": "b1e93a30-da4e-4c00-dc10-0252bb4299e6"
      },
      "source": [
        "fname = 'book_title and description 0k to 10k.csv'\n",
        "df = pd.read_csv(fname).drop(['Unnamed: 0', 'Unnamed: 0.1'], axis=1)\n",
        "df = df.fillna('N/A')\n",
        "df.head()"
      ],
      "execution_count": 0,
      "outputs": [
        {
          "output_type": "execute_result",
          "data": {
            "text/html": [
              "<div>\n",
              "<style scoped>\n",
              "    .dataframe tbody tr th:only-of-type {\n",
              "        vertical-align: middle;\n",
              "    }\n",
              "\n",
              "    .dataframe tbody tr th {\n",
              "        vertical-align: top;\n",
              "    }\n",
              "\n",
              "    .dataframe thead th {\n",
              "        text-align: right;\n",
              "    }\n",
              "</style>\n",
              "<table border=\"1\" class=\"dataframe\">\n",
              "  <thead>\n",
              "    <tr style=\"text-align: right;\">\n",
              "      <th></th>\n",
              "      <th>book_title</th>\n",
              "      <th>description</th>\n",
              "    </tr>\n",
              "  </thead>\n",
              "  <tbody>\n",
              "    <tr>\n",
              "      <th>0</th>\n",
              "      <td>The Hunger Games</td>\n",
              "      <td>Could you survive on your own, in the wild, wi...</td>\n",
              "    </tr>\n",
              "    <tr>\n",
              "      <th>1</th>\n",
              "      <td>Harry Potter and the Order of the Phoenix</td>\n",
              "      <td>There is a door at the end of a silent corrido...</td>\n",
              "    </tr>\n",
              "    <tr>\n",
              "      <th>2</th>\n",
              "      <td>To Kill a Mockingbird</td>\n",
              "      <td>The unforgettable novel of a childhood in a sl...</td>\n",
              "    </tr>\n",
              "    <tr>\n",
              "      <th>3</th>\n",
              "      <td>Pride and Prejudice</td>\n",
              "      <td>Alternate cover edition of ISBN 9780679783268S...</td>\n",
              "    </tr>\n",
              "    <tr>\n",
              "      <th>4</th>\n",
              "      <td>Twilight</td>\n",
              "      <td>About three things I was absolutely positive.F...</td>\n",
              "    </tr>\n",
              "  </tbody>\n",
              "</table>\n",
              "</div>"
            ],
            "text/plain": [
              "                                  book_title  \\\n",
              "0                           The Hunger Games   \n",
              "1  Harry Potter and the Order of the Phoenix   \n",
              "2                      To Kill a Mockingbird   \n",
              "3                        Pride and Prejudice   \n",
              "4                                   Twilight   \n",
              "\n",
              "                                         description  \n",
              "0  Could you survive on your own, in the wild, wi...  \n",
              "1  There is a door at the end of a silent corrido...  \n",
              "2  The unforgettable novel of a childhood in a sl...  \n",
              "3  Alternate cover edition of ISBN 9780679783268S...  \n",
              "4  About three things I was absolutely positive.F...  "
            ]
          },
          "metadata": {
            "tags": []
          },
          "execution_count": 6
        }
      ]
    },
    {
      "cell_type": "code",
      "metadata": {
        "id": "wBn5I0t_XTuO",
        "colab_type": "code",
        "colab": {},
        "outputId": "d7d4a616-3b2a-4070-e605-3f10df1541f9"
      },
      "source": [
        "%%time\n",
        "#docs\n",
        "nlp = spacy.load(\"en_core_web_lg\")\n",
        "docs = list(nlp.pipe(df.description))\n",
        "df['docs'] = docs\n",
        "\n",
        "custom_stops = ['\\n', '\\n\\n', '$', ' ', '\\r\\r\\n']\n",
        "\n",
        "#lemmas\n",
        "lemmas = []\n",
        "for doc in docs:\n",
        "    lemma = []\n",
        "    for token in doc: \n",
        "        if ((token.is_stop == False) and (token.is_punct == False)) and (token.pos_!= 'PRON') and (token.text not in custom_stops):\n",
        "            lemma.append(token.lemma_)\n",
        "    lemmas.append(lemma)\n",
        "    \n",
        "df['lemmas'] = lemmas"
      ],
      "execution_count": 0,
      "outputs": [
        {
          "output_type": "stream",
          "text": [
            "CPU times: user 3min 53s, sys: 1min 25s, total: 5min 19s\n",
            "Wall time: 5min 19s\n"
          ],
          "name": "stdout"
        }
      ]
    },
    {
      "cell_type": "code",
      "metadata": {
        "id": "KUoBHRD4XTuZ",
        "colab_type": "code",
        "colab": {},
        "outputId": "f8bffec5-aafb-4efe-d4c3-dc221ad53541"
      },
      "source": [
        "df.head()"
      ],
      "execution_count": 0,
      "outputs": [
        {
          "output_type": "execute_result",
          "data": {
            "text/html": [
              "<div>\n",
              "<style scoped>\n",
              "    .dataframe tbody tr th:only-of-type {\n",
              "        vertical-align: middle;\n",
              "    }\n",
              "\n",
              "    .dataframe tbody tr th {\n",
              "        vertical-align: top;\n",
              "    }\n",
              "\n",
              "    .dataframe thead th {\n",
              "        text-align: right;\n",
              "    }\n",
              "</style>\n",
              "<table border=\"1\" class=\"dataframe\">\n",
              "  <thead>\n",
              "    <tr style=\"text-align: right;\">\n",
              "      <th></th>\n",
              "      <th>book_title</th>\n",
              "      <th>description</th>\n",
              "      <th>docs</th>\n",
              "      <th>lemmas</th>\n",
              "    </tr>\n",
              "  </thead>\n",
              "  <tbody>\n",
              "    <tr>\n",
              "      <th>0</th>\n",
              "      <td>The Hunger Games</td>\n",
              "      <td>Could you survive on your own, in the wild, wi...</td>\n",
              "      <td>(Could, you, survive, on, your, own, ,, in, th...</td>\n",
              "      <td>[survive, wild, sure, live, morning?in, ruin, ...</td>\n",
              "    </tr>\n",
              "    <tr>\n",
              "      <th>1</th>\n",
              "      <td>Harry Potter and the Order of the Phoenix</td>\n",
              "      <td>There is a door at the end of a silent corrido...</td>\n",
              "      <td>(There, is, a, door, at, the, end, of, a, sile...</td>\n",
              "      <td>[door, end, silent, corridor, ’, haunt, Harry,...</td>\n",
              "    </tr>\n",
              "    <tr>\n",
              "      <th>2</th>\n",
              "      <td>To Kill a Mockingbird</td>\n",
              "      <td>The unforgettable novel of a childhood in a sl...</td>\n",
              "      <td>(The, unforgettable, novel, of, a, childhood, ...</td>\n",
              "      <td>[unforgettable, novel, childhood, sleepy, sout...</td>\n",
              "    </tr>\n",
              "    <tr>\n",
              "      <th>3</th>\n",
              "      <td>Pride and Prejudice</td>\n",
              "      <td>Alternate cover edition of ISBN 9780679783268S...</td>\n",
              "      <td>(Alternate, cover, edition, of, ISBN, 97806797...</td>\n",
              "      <td>[alternate, cover, edition, ISBN, 978067978326...</td>\n",
              "    </tr>\n",
              "    <tr>\n",
              "      <th>4</th>\n",
              "      <td>Twilight</td>\n",
              "      <td>About three things I was absolutely positive.F...</td>\n",
              "      <td>(About, three, things, I, was, absolutely, pos...</td>\n",
              "      <td>[thing, absolutely, positive, Edward, vampire,...</td>\n",
              "    </tr>\n",
              "  </tbody>\n",
              "</table>\n",
              "</div>"
            ],
            "text/plain": [
              "                                  book_title  \\\n",
              "0                           The Hunger Games   \n",
              "1  Harry Potter and the Order of the Phoenix   \n",
              "2                      To Kill a Mockingbird   \n",
              "3                        Pride and Prejudice   \n",
              "4                                   Twilight   \n",
              "\n",
              "                                         description  \\\n",
              "0  Could you survive on your own, in the wild, wi...   \n",
              "1  There is a door at the end of a silent corrido...   \n",
              "2  The unforgettable novel of a childhood in a sl...   \n",
              "3  Alternate cover edition of ISBN 9780679783268S...   \n",
              "4  About three things I was absolutely positive.F...   \n",
              "\n",
              "                                                docs  \\\n",
              "0  (Could, you, survive, on, your, own, ,, in, th...   \n",
              "1  (There, is, a, door, at, the, end, of, a, sile...   \n",
              "2  (The, unforgettable, novel, of, a, childhood, ...   \n",
              "3  (Alternate, cover, edition, of, ISBN, 97806797...   \n",
              "4  (About, three, things, I, was, absolutely, pos...   \n",
              "\n",
              "                                              lemmas  \n",
              "0  [survive, wild, sure, live, morning?in, ruin, ...  \n",
              "1  [door, end, silent, corridor, ’, haunt, Harry,...  \n",
              "2  [unforgettable, novel, childhood, sleepy, sout...  \n",
              "3  [alternate, cover, edition, ISBN, 978067978326...  \n",
              "4  [thing, absolutely, positive, Edward, vampire,...  "
            ]
          },
          "metadata": {
            "tags": []
          },
          "execution_count": 9
        }
      ]
    },
    {
      "cell_type": "markdown",
      "metadata": {
        "id": "4DTkDJWTXTuk",
        "colab_type": "text"
      },
      "source": [
        "## Spacy Similarity"
      ]
    },
    {
      "cell_type": "code",
      "metadata": {
        "id": "dSZKRucPXTum",
        "colab_type": "code",
        "colab": {}
      },
      "source": [
        "import random\n",
        "\n",
        "def get_random_num():\n",
        "    return random.choice(range(10000))"
      ],
      "execution_count": 0,
      "outputs": []
    },
    {
      "cell_type": "code",
      "metadata": {
        "id": "HiljCY4ZXTut",
        "colab_type": "code",
        "colab": {},
        "outputId": "351827be-f678-4491-ccc1-eb4894fe9196"
      },
      "source": [
        "#compare test_doc vs random book:\n",
        "test_doc = df.iloc[0].docs\n",
        "random_num = get_random_num()\n",
        "\n",
        "similarity = test_doc.similarity(df.iloc[random_num].docs)\n",
        "similarity"
      ],
      "execution_count": 0,
      "outputs": [
        {
          "output_type": "execute_result",
          "data": {
            "text/plain": [
              "0.9610987746528274"
            ]
          },
          "metadata": {
            "tags": []
          },
          "execution_count": 11
        }
      ]
    },
    {
      "cell_type": "code",
      "metadata": {
        "id": "vPt1qZVGXTu2",
        "colab_type": "code",
        "colab": {},
        "outputId": "862be0fc-9888-4307-f386-abd098ab197a"
      },
      "source": [
        "df.iloc[random_num]"
      ],
      "execution_count": 0,
      "outputs": [
        {
          "output_type": "execute_result",
          "data": {
            "text/plain": [
              "book_title              April 1865: The Month That Saved America\n",
              "description    One month in 1865 witnessed the frenzied fall ...\n",
              "docs           (One, month, in, 1865, witnessed, the, frenzie...\n",
              "lemmas         [month, 1865, witness, frenzied, fall, Richmon...\n",
              "Name: 7755, dtype: object"
            ]
          },
          "metadata": {
            "tags": []
          },
          "execution_count": 12
        }
      ]
    },
    {
      "cell_type": "code",
      "metadata": {
        "id": "P_UPS7gOXTvA",
        "colab_type": "code",
        "colab": {}
      },
      "source": [
        "def get_sims(test_doc):\n",
        "    sims = []\n",
        "    for doc in df.docs:\n",
        "        sim = test_doc.similarity(doc)\n",
        "        sims.append(sim)\n",
        "    top5 = pd.Series(sims).sort_values(ascending=False).iloc[1:6]\n",
        "    for i in top5.index:\n",
        "        print(df.iloc[i].book_title)\n",
        "        print(df.iloc[i].description)\n",
        "        print('\\n')\n",
        "    return top5\n"
      ],
      "execution_count": 0,
      "outputs": []
    },
    {
      "cell_type": "markdown",
      "metadata": {
        "id": "5Vy9rbI5XTvH",
        "colab_type": "text"
      },
      "source": [
        "### Similarity based on actual book description"
      ]
    },
    {
      "cell_type": "code",
      "metadata": {
        "id": "L4O_w8fNXTvJ",
        "colab_type": "code",
        "colab": {},
        "outputId": "59d39fdc-45b8-43e2-9b3e-f1d976500314"
      },
      "source": [
        "random_num = get_random_num()\n",
        "\n",
        "print(df.iloc[random_num].book_title)\n",
        "print(df.iloc[random_num].description)\n",
        "test_doc = df.iloc[random_num].docs\n",
        "\n",
        "get_sims(test_doc)"
      ],
      "execution_count": 0,
      "outputs": [
        {
          "output_type": "stream",
          "text": [
            "Legion\n",
            "\"Stephen Leeds, AKA 'Legion,' is a man whose unique mental condition allows him to generate a multitude of personae: hallucinatory entities with a wide variety of personal characteristics and a vast array of highly specialized skills. As the story begins, Leeds and his 'aspects' are drawn into the search for the missing Balubal Razon, inventor of a camera whose astonishing\n",
            "\"Stephen Leeds, AKA 'Legion,' is a man whose unique mental condition allows him to generate a multitude of personae: hallucinatory entities with a wide variety of personal characteristics and a vast array of highly specialized skills. As the story begins, Leeds and his 'aspects' are drawn into the search for the missing Balubal Razon, inventor of a camera whose astonishing properties could alter our understanding of human history and change the very structure of society\"--From publisher's description\n",
            "The Starbirth Assignment: Shifter\n",
            "Librarian's note: This edition's ASIN is in conflict with The Starbirth Assignment: Shifter.This book is out of print. For the full edition, including both part 1 and 2 of The Starbirth Assignment, see The Starbirth Assignment: Shifter.Lock Harford is exposed to an unknown drug as a teenager in South America. Its unique effects draw the attention of British intelligence, w\n",
            "Librarian's note: This edition's ASIN is in conflict with The Starbirth Assignment: Shifter.This book is out of print. For the full edition, including both part 1 and 2 of The Starbirth Assignment, see The Starbirth Assignment: Shifter.Lock Harford is exposed to an unknown drug as a teenager in South America. Its unique effects draw the attention of British intelligence, who undertake Lock’s development. He has the ability to move his body through a different dimension using the power of thought. His enhanced senses detect living beings as energy pulses, making him invaluable to military and intelligence organisations. They employ him to work alongside elite taskforces, taking passengers using teleportation, ‘Shifting’ in and lifting operatives out of hostile situations. Lock’s handlers are put on red alert when a similar drug, Starbirth, appears in the United States and Britain sold as an illegal 'high'. Distribution spreads across the world and the results of a Starbirth pandemic are feared as criminal and insane teleporters (Shifters) wreak havoc. Lock and a small unit of covert operatives are given the task of finding the source of Starbirth and shutting it down, but their efforts are hindered by corrupt, ruthless people with their own agendas. Lock is joined in his quest by the powerful, infuriating and immensely likeable Jimmy Mackenzie, a Special Air Service trooper whose life is changed forever by events out of their control.In this first book in the Starbirth series, Jackie Johnson develops a brutal mix of suspense, humanity, command and action with a subtle vein of humour that keeps the reader rooting for Harford’s team. These books are crafted to stay with the reader long after the story is finished, a rare ability in these days of bubble gum fiction, and Starbirth sits confidently alongside the best Sci-fi thrillers. Her ability to merge Sci-fi and Special Forces intrigue are second to none. In true Lock Harford style, she infiltrates this Man’s World with impressive success.The series continues in the third book, The Shifter Dimension.\n",
            "\n",
            "\n",
            "The Book on the Taboo Against Knowing Who You Are\n",
            "Alan Watts asks what is the cause of the illusion that the self is a separate ego, housed in a bag of skin, and which confronts a universe of physical objects that are alien to it. Rather a person's identity (their ego) binds them to the physical universe, creating a relationship with their environment and other people. The separation of the self and the physical world lea\n",
            "Alan Watts asks what is the cause of the illusion that the self is a separate ego, housed in a bag of skin, and which confronts a universe of physical objects that are alien to it. Rather a person's identity (their ego) binds them to the physical universe, creating a relationship with their environment and other people. The separation of the self and the physical world leads to the misuse of technology and the attempt to violently subjugate man's natural environment, leading to its destruction.Explaining man's role in the universe as a unique expression of the total universe, and interdependent on it, Alan Watts offers a new understanding of personal identity. It reveals the mystery of existence, presenting and alternative to the feelings of alienation that is prevalent in Western society, and a vision of how we can come to understand the cosmic self that is within every living thing.\n",
            "\n",
            "\n",
            "Born on a Blue Day: Inside the Extraordinary Mind of an Autistic Savant\n",
            "One of the world's fifty living autistic savants is the first and only to tell his compelling and inspiring life story - and explain how his incredible mind works.This unique first-person account offers a window into the mind of a high-functioning, 27-year-old British autistic savant with Asperger's syndrome. Tammet's ability to think abstractly, deviate from routine, and\n",
            "One of the world's fifty living autistic savants is the first and only to tell his compelling and inspiring life story - and explain how his incredible mind works.This unique first-person account offers a window into the mind of a high-functioning, 27-year-old British autistic savant with Asperger's syndrome. Tammet's ability to think abstractly, deviate from routine, and empathize, interact and communicate with others is impaired, yet he's capable of incredible feats of memorization and mental calculation. Besides being able to effortlessly multiply and divide huge sums in his head with the speed and accuracy of a computer, Tammet, the subject of the 2005 documentary Brainman, learned Icelandic in a single week and recited the number pi up to the 22,514th digit, breaking the European record. He also experiences synesthesia, an unusual neurological syndrome that enables him to experience numbers and words as \"shapes, colors, textures and motions.\" Tammet traces his life from a frustrating, withdrawn childhood and adolescence to his adult achievements, which include teaching in Lithuania, achieving financial independence with an educational Web site and sustaining a long-term romantic relationship. As one of only about 50 people living today with synesthesia and autism, Tammet's condition is intriguing to researchers; his ability to express himself clearly and with a surprisingly engaging tone (given his symptoms) makes for an account that will intrigue others as well.\n",
            "\n",
            "\n",
            "A Fire Upon the Deep\n",
            "Alternate Cover Edition can be found here. A Fire upon the Deep is the big, breakout book that fulfills the promise of Vinge's career to date: a gripping tale of galactic war told on a cosmic scale.Thousands of years hence, many races inhabit a universe where a mind's potential is determined by its location in space, from superintelligent entities in the Transcend, to the\n",
            "Alternate Cover Edition can be found here. A Fire upon the Deep is the big, breakout book that fulfills the promise of Vinge's career to date: a gripping tale of galactic war told on a cosmic scale.Thousands of years hence, many races inhabit a universe where a mind's potential is determined by its location in space, from superintelligent entities in the Transcend, to the limited minds of the Unthinking Depths, where only simple creatures and technology can function. Nobody knows what strange force partitioned space into these \"regions of thought,\" but when the warring Straumli realm use an ancient Transcendent artifact as a weapon, they unwittingly unleash an awesome power that destroys thousands of worlds and enslaves all natural and artificial intelligence.Fleeing the threat, a family of scientists, including two children, are taken captive by the Tines, an alien race with a harsh medieval culture, and used as pawns in a ruthless power struggle. A rescue mission, not entirely composed of humans, must rescue the children-and a secret that may save the rest of interstellar civilization.\n",
            "\n",
            "\n",
            "A Pattern Language: Towns, Buildings, Construction\n",
            "At the core of A Pattern Language is the philosophy that in designing their environments people always rely on certain ‘languages,’ which, like the languages we speak, allow them to articulate and communicate an infinite variety of designs within a formal system which gives them coherence.This book provides a language of this kind. It will enable making a design for almost\n",
            "At the core of A Pattern Language is the philosophy that in designing their environments people always rely on certain ‘languages,’ which, like the languages we speak, allow them to articulate and communicate an infinite variety of designs within a formal system which gives them coherence.This book provides a language of this kind. It will enable making a design for almost any kind of building, or any part of the built environment. ‘Patterns,’ the units of this language, are answers to design problems: how high should a window sill be?; how many stories should a building have?; how much space in a neighborhood should be devoted to grass and trees?More than 250 of the patterns in this language are outlined, each consisting of a problem statement, a discussion of the problem with an illustration, and a solution. As the authors say in their introduction, many of the patterns are archetypal, so deeply rooted in the nature of things that it seems likely that they will be a part of human nature and human action as much in five hundred years as they are today.A Pattern Language is related to Alexander’s other works in the Center for Environmental Structure series: The Timeless Way of Building (introductory volume) and The Oregon Experiment.\n",
            "\n",
            "\n"
          ],
          "name": "stdout"
        },
        {
          "output_type": "stream",
          "text": [
            "/home/ec2-user/anaconda3/envs/python3/lib/python3.6/runpy.py:193: UserWarning: [W008] Evaluating Doc.similarity based on empty vectors.\n",
            "  \"__main__\", mod_spec)\n",
            "/home/ec2-user/anaconda3/envs/python3/lib/python3.6/runpy.py:193: UserWarning: [W008] Evaluating Doc.similarity based on empty vectors.\n",
            "  \"__main__\", mod_spec)\n"
          ],
          "name": "stderr"
        },
        {
          "output_type": "execute_result",
          "data": {
            "text/plain": [
              "4709    0.963086\n",
              "8074    0.962167\n",
              "9156    0.960983\n",
              "2736    0.960194\n",
              "9342    0.959717\n",
              "dtype: float64"
            ]
          },
          "metadata": {
            "tags": []
          },
          "execution_count": 77
        }
      ]
    },
    {
      "cell_type": "markdown",
      "metadata": {
        "id": "QW6S39PFXTvT",
        "colab_type": "text"
      },
      "source": [
        "### User generated description"
      ]
    },
    {
      "cell_type": "code",
      "metadata": {
        "id": "FyI67BnlXTvV",
        "colab_type": "code",
        "colab": {},
        "outputId": "299159ae-b369-402e-833f-5e81447abc83"
      },
      "source": [
        "test_doc = nlp('a thrilling spy novel set in post-war russia')\n",
        "top5 = get_sims(test_doc)\n",
        "top5"
      ],
      "execution_count": 0,
      "outputs": [
        {
          "output_type": "stream",
          "text": [
            "/home/ec2-user/anaconda3/envs/python3/lib/python3.6/runpy.py:193: UserWarning: [W008] Evaluating Doc.similarity based on empty vectors.\n",
            "  \"__main__\", mod_spec)\n",
            "/home/ec2-user/anaconda3/envs/python3/lib/python3.6/runpy.py:193: UserWarning: [W008] Evaluating Doc.similarity based on empty vectors.\n",
            "  \"__main__\", mod_spec)\n"
          ],
          "name": "stderr"
        },
        {
          "output_type": "stream",
          "text": [
            "The Cruel Sea\n",
            "A powerful novel of the North Atlantic in World War II, this is the story of the British ships Compass Rose and Saltash and of their desparate cat-and-mouse game with Nazi U-boats. First published to great acclaim in 1951, The Cruel Sea remains a classic novel of endurance and daring.\n",
            "\n",
            "\n",
            "Palace Walk\n",
            "Volume I of the masterful Cairo Trilogy. A national best-seller in both hardcover and paperback, it introduces the engrossing saga of a Muslim family in Cairo during Egypt's occupation by British forces in the early 1900s.\n",
            "\n",
            "\n",
            "The Things They Carried\n",
            "In 1979, Tim O'Brien's Going After Cacciato—a novel about the Vietnam War—won the National Book Award. In this, his second work of fiction about Vietnam, O'Brien's unique artistic vision is again clearly demonstrated. Neither a novel nor a short story collection, it is an arc of fictional episodes, taking place in the childhoods of its characters, in the jungles of Vietnam\n",
            "In 1979, Tim O'Brien's Going After Cacciato—a novel about the Vietnam War—won the National Book Award. In this, his second work of fiction about Vietnam, O'Brien's unique artistic vision is again clearly demonstrated. Neither a novel nor a short story collection, it is an arc of fictional episodes, taking place in the childhoods of its characters, in the jungles of Vietnam and back home in America two decades later.\n",
            "\n",
            "\n",
            "Saga, Vol. 1\n",
            "When two soldiers from opposite sides of a never-ending galactic war fall in love, they risk everything to bring a fragile new life into a dangerous old universe. From bestselling writer Brian K. Vaughan, Saga is the sweeping tale of one young family fighting to find their place in the worlds. Fantasy and science fiction are wed like never before in this sexy, subversive d\n",
            "When two soldiers from opposite sides of a never-ending galactic war fall in love, they risk everything to bring a fragile new life into a dangerous old universe. From bestselling writer Brian K. Vaughan, Saga is the sweeping tale of one young family fighting to find their place in the worlds. Fantasy and science fiction are wed like never before in this sexy, subversive drama for adults. Collecting: Saga 1-6\n",
            "\n",
            "\n",
            "Blood Line\n",
            "Blood Line is a high-voltage spy thriller that redefines rogue—the Granger Spy Novel series introduces a loving family with lethal issues caught in the crosshairs of global arms dealers.When a simple home invasion turns out to be not so simple, Ron Granger must put aside his quiet rural life and return to the Central Intelligence Agency.Aided by his brilliant wife, Valerie\n",
            "Blood Line is a high-voltage spy thriller that redefines rogue—the Granger Spy Novel series introduces a loving family with lethal issues caught in the crosshairs of global arms dealers.When a simple home invasion turns out to be not so simple, Ron Granger must put aside his quiet rural life and return to the Central Intelligence Agency.Aided by his brilliant wife, Valerie, and resourceful teen daughter, Leecy, Ron must quickly decide who to believe among the calculating opportunists, shrewd criminals, and power-hungry rival agencies racing to possess the technology that will change modern warfare forever. But when Leecy is kidnapped, Ron and Val must choose between the mission and a rescue. With time quickly running out, Ron only knows one thing:When you can’t trust anyone else, trust your family.2015 Killer Nashville Silver Falchion Reader's Favorite Award in Mystery/Thriller 2015 Readers' Favorite Gold Medal Winner in Fiction-Action for Excellence in Writing 2015 eLit Digital Book Award - Gold Medal in Popular Fiction & Silver Medal in Mystery/Thriller/Suspense\n",
            "\n",
            "\n"
          ],
          "name": "stdout"
        },
        {
          "output_type": "execute_result",
          "data": {
            "text/plain": [
              "5679    0.853894\n",
              "7672    0.852370\n",
              "298     0.852295\n",
              "2261    0.850206\n",
              "7722    0.847824\n",
              "dtype: float64"
            ]
          },
          "metadata": {
            "tags": []
          },
          "execution_count": 14
        }
      ]
    },
    {
      "cell_type": "code",
      "metadata": {
        "id": "6ZAjkTb6XTvg",
        "colab_type": "code",
        "colab": {},
        "outputId": "9b7aacb4-fef9-4ea9-90ed-f515406eda5f"
      },
      "source": [
        "test_doc = nlp('love story high school friends joy and heartache')\n",
        "get_sims(test_doc)"
      ],
      "execution_count": 0,
      "outputs": [
        {
          "output_type": "stream",
          "text": [
            "Fallen in Love\n",
            "Unexpected. Unrequited. Forbidden. Eternal. Everyone has their own love story.And in a twist of fate, four extraordinary love stories combine over the course of a romantic Valentine's Day in Medieval England. Miles and Shelby find love where they least expect it. Roland learns a painful lesson about finding and losing love. Arianne pays the price for a love so fierce it bu\n",
            "Unexpected. Unrequited. Forbidden. Eternal. Everyone has their own love story.And in a twist of fate, four extraordinary love stories combine over the course of a romantic Valentine's Day in Medieval England. Miles and Shelby find love where they least expect it. Roland learns a painful lesson about finding and losing love. Arianne pays the price for a love so fierce it burns. And for the first and last time, Daniel and Luce will spend a night together like none other. Lauren Kate's Fallen in Love is filled with love stories . . . the ones everyone has been waiting for. True love never says goodbye . . .\n",
            "\n",
            "\n",
            "Chicken Soup for the Soul\n",
            "Two of America's best-loved inspirational speakers share the very best of their collected stories and favorite tales that have touched the hearts of people everywhere. Canfield and Hansen bring you wit and wisdom, hope and empowerment to buoy you through life's dark moments.\n",
            "\n",
            "\n",
            "The Sky Is Everywhere\n",
            "Adrift after her sister Bailey's sudden death, Lennie finds herself torn between quiet, seductive Toby—Bailey's boyfriend who shares her grief—and Joe, the new boy in town who bursts with life and musical genius. Each offers Lennie something she desperately needs... though she knows if the two of them collide her whole world will explode.Join Lennie on this heartbreaking a\n",
            "Adrift after her sister Bailey's sudden death, Lennie finds herself torn between quiet, seductive Toby—Bailey's boyfriend who shares her grief—and Joe, the new boy in town who bursts with life and musical genius. Each offers Lennie something she desperately needs... though she knows if the two of them collide her whole world will explode.Join Lennie on this heartbreaking and hilarious journey of profound sorrow and mad love, as she makes colossal mistakes and colossal discoveries, as she traipses through band rooms and forest bedrooms and ultimately right into your heart.As much a celebration of love as a poignant portrait of loss, Lennie's struggle to sort her own melody out of the noise around her is always honest, often uproarious, and absolutely unforgettable.\n",
            "\n",
            "\n",
            "My Best Friend's Girl\n",
            "How far would you go for the best friend who broke your heart? This internationally bestselling novel tells an enchanting tale of life’s most unpredictable loves and heartaches, and the unforgettable bond between a single woman and an extraordinary five-year-old girl. From the moment they met in college, best friends Adele Brannon and Kamryn Matika thought nothing could co\n",
            "How far would you go for the best friend who broke your heart? This internationally bestselling novel tells an enchanting tale of life’s most unpredictable loves and heartaches, and the unforgettable bond between a single woman and an extraordinary five-year-old girl. From the moment they met in college, best friends Adele Brannon and Kamryn Matika thought nothing could come between them—until Adele did the unthinkable and slept with Kamryn’s fiancé, Nate. Now, after years of silence, the two women are reuniting, and Adele has a stunning request for her old friend: she wants Kamryn to adopt her five-year-old daughter, Tegan.Besides the difference in skin color—many will assume that headstrong, impulsive Kamryn is Tegan’s nanny—there’s the inconvenient truth that Kamryn is wholly unprepared to take care of anyone, especially someone who reminds her so much of Nate. With crises brewing at work and her love life in shambles, can Kamryn somehow become the mother a little girl needs her to be? In My Best Friend’s Girl, Dorothy Koomson takes us on a warm and wondrous journey through laughter and tears, forgiveness and hope—and the enduring love forged by the unlikeliest of families.\n",
            "\n",
            "\n",
            "Anne of the Island\n",
            "New adventures lie ahead as Anne Shirley packs her bags, waves good-bye to childhood, and heads for Redmond College. With her old friend Prissy Grant waiting in the bustling city of Kingsport and her frivolous new friend Philippa Gordon at her side, Anne tucks her memories of rural Avonlea away and discovers life on her own terms, filled with surprises . . . including a ma\n",
            "New adventures lie ahead as Anne Shirley packs her bags, waves good-bye to childhood, and heads for Redmond College. With her old friend Prissy Grant waiting in the bustling city of Kingsport and her frivolous new friend Philippa Gordon at her side, Anne tucks her memories of rural Avonlea away and discovers life on her own terms, filled with surprises . . . including a marriage proposal from the worst fellow imaginable, the sale of her very first story, and a tragedy that teaches her a painful lesson. But tears turn to laughter when Anne and her friends move into an old cottage and an ornery black cat steals her heart. Little does Anne know that handsome Gilbert Blythe wants to win her heart, too. Suddenly Anne must decide whether she's ready for love.\n",
            "\n",
            "\n"
          ],
          "name": "stdout"
        },
        {
          "output_type": "stream",
          "text": [
            "/home/ec2-user/anaconda3/envs/python3/lib/python3.6/runpy.py:193: UserWarning: [W008] Evaluating Doc.similarity based on empty vectors.\n",
            "  \"__main__\", mod_spec)\n",
            "/home/ec2-user/anaconda3/envs/python3/lib/python3.6/runpy.py:193: UserWarning: [W008] Evaluating Doc.similarity based on empty vectors.\n",
            "  \"__main__\", mod_spec)\n"
          ],
          "name": "stderr"
        },
        {
          "output_type": "execute_result",
          "data": {
            "text/plain": [
              "3423    0.865868\n",
              "5785    0.865009\n",
              "1179    0.863292\n",
              "5331    0.863093\n",
              "1146    0.862324\n",
              "dtype: float64"
            ]
          },
          "metadata": {
            "tags": []
          },
          "execution_count": 68
        }
      ]
    },
    {
      "cell_type": "code",
      "metadata": {
        "id": "Ob-Ga2E4XTvq",
        "colab_type": "code",
        "colab": {},
        "outputId": "c872fc99-22bb-4362-95ac-83545ee706ed"
      },
      "source": [
        "test_doc = nlp('princess in search of prince charming evil stepmother')\n",
        "get_sims(test_doc)"
      ],
      "execution_count": 0,
      "outputs": [
        {
          "output_type": "stream",
          "text": [
            "The Hollow Kingdom\n",
            "In nineteenth-century England, a powerful sorcerer and King of the Goblins chooses Kate, the elder of two orphan girls recently arrived at their ancestral home, Hallow Hill, to become his bride and queen...\n",
            "\n",
            "\n",
            "Princess of Glass\n",
            "Hoping to escape the troubles in her kingdom, Princess Poppy reluctantly agrees to take part in a royal exchange program, whereby young princes and princesses travel to each other's countries in the name of better political alliances--and potential marriages. It's got the makings of a fairy tale--until a hapless servant named Eleanor is tricked by a vengeful fairy godmothe\n",
            "Hoping to escape the troubles in her kingdom, Princess Poppy reluctantly agrees to take part in a royal exchange program, whereby young princes and princesses travel to each other's countries in the name of better political alliances--and potential marriages. It's got the makings of a fairy tale--until a hapless servant named Eleanor is tricked by a vengeful fairy godmother into competing with Poppy for the eligible prince. Ballgowns, cinders, and enchanted glass slippers fly in this romantic and action-packed happily-ever-after quest from an author with a flair for embroidering tales in her own delightful way.\n",
            "\n",
            "\n",
            "A Lick of Frost\n",
            "Commanded by her aunt, the dark Queen Andais, to conceive a child as heir to the throne, Meredith Gentry, a half-mortal, half-faerie princess, returns to Los Angeles, only to find herself and her lovers trapped between the dark and light faerie courts and human law.\n",
            "\n",
            "\n",
            "Confessions of an Ugly Stepsister\n",
            "We have all heard the story of Cinderella, the beautiful child cast out to slave among the ashes. But what of her stepsisters, the homely pair exiled into ignominy by the fame of their lovely sibling? What fate befell those untouched by beauty ... and what curses accompanied Cinderella's looks?Set against the backdrop of seventeenth-century Holland, Confessions of an Ugly\n",
            "We have all heard the story of Cinderella, the beautiful child cast out to slave among the ashes. But what of her stepsisters, the homely pair exiled into ignominy by the fame of their lovely sibling? What fate befell those untouched by beauty ... and what curses accompanied Cinderella's looks?Set against the backdrop of seventeenth-century Holland, Confessions of an Ugly Stepsister tells the story of Iris, an unlikely heroine who finds herself swept from the lowly streets of Haarlem to a strange world of wealth, artifice, and ambition. Iris's path quickly becomes intertwined with that of Clara, the mysterious and unnaturally beautiful girl destined to become her sister. While Clara retreats to the cinders of the family hearth, Iris seeks out the shadowy secrets of her new household -- and the treacherous truth of her former life.\n",
            "\n",
            "\n",
            "The Looking Glass Wars\n",
            "Alyss of Wonderland?When Alyss Heart, newly orphaned heir to the Wonderland throne, flees through the Pool of Tears to escape her murderous Aunt Redd, she finds herself lost and alone in Victorian London. Befriended by an aspiring author named Lewis Carrol, Alyss tells the violent, heartbreaking story of her young life. Alyss trusts this author to tell the truth so that so\n",
            "Alyss of Wonderland?When Alyss Heart, newly orphaned heir to the Wonderland throne, flees through the Pool of Tears to escape her murderous Aunt Redd, she finds herself lost and alone in Victorian London. Befriended by an aspiring author named Lewis Carrol, Alyss tells the violent, heartbreaking story of her young life. Alyss trusts this author to tell the truth so that someone, somewhere will find her and bring her home. But he gets the story all wrong. He even spells her name incorrectly!Fortunately, Royal Bodyguard Hatter Madigan knows all too well the awful truth of Alyss' story - and he's searching every corner of our world to find the lost princess and return her to Wonderland, to battle Redd for her rightful place as the Queen of Hearts.The Looking Glass Wars unabashedly challenges our Wonderland assumptions of mad tea parties, grinning Cheshire cats, and a curious little blond girl to reveal an epic battle in the endless war for Imagination.\n",
            "\n",
            "\n"
          ],
          "name": "stdout"
        },
        {
          "output_type": "stream",
          "text": [
            "/home/ec2-user/anaconda3/envs/python3/lib/python3.6/runpy.py:193: UserWarning: [W008] Evaluating Doc.similarity based on empty vectors.\n",
            "  \"__main__\", mod_spec)\n",
            "/home/ec2-user/anaconda3/envs/python3/lib/python3.6/runpy.py:193: UserWarning: [W008] Evaluating Doc.similarity based on empty vectors.\n",
            "  \"__main__\", mod_spec)\n"
          ],
          "name": "stderr"
        },
        {
          "output_type": "execute_result",
          "data": {
            "text/plain": [
              "4468    0.824254\n",
              "4093    0.814074\n",
              "3523    0.804395\n",
              "2141    0.804371\n",
              "2912    0.804315\n",
              "dtype: float64"
            ]
          },
          "metadata": {
            "tags": []
          },
          "execution_count": 69
        }
      ]
    },
    {
      "cell_type": "markdown",
      "metadata": {
        "id": "1X2S8wL4XTv3",
        "colab_type": "text"
      },
      "source": [
        "## TF-IDF Vectorizer"
      ]
    },
    {
      "cell_type": "code",
      "metadata": {
        "id": "brGrGmsDXTv5",
        "colab_type": "code",
        "colab": {}
      },
      "source": [
        "from sklearn.feature_extraction.text import TfidfVectorizer\n",
        "data = []\n",
        "#convert each row list of lemmas into strings, then append to one big list:\n",
        "for lemma in list(df['lemmas']):\n",
        "    data.append(' '.join(lemma))\n",
        "    \n",
        "#Vectorize:\n",
        "tfidf = TfidfVectorizer(stop_words='english', max_features=5000)\n",
        "feat_matrix = tfidf.fit_transform(data)\n",
        "dense_feat_matrix = feat_matrix.todense()\n",
        "features = tfidf.get_feature_names()\n",
        "\n",
        "# View Feature Matrix as DataFrame\n",
        "tfidf_df = pd.DataFrame(dense_feat_matrix, columns=features)\n",
        "tfidf_df.head()"
      ],
      "execution_count": 0,
      "outputs": []
    },
    {
      "cell_type": "code",
      "metadata": {
        "id": "k0tislLZXTwF",
        "colab_type": "code",
        "colab": {}
      },
      "source": [
        "# Instantiate\n",
        "from sklearn.neighbors import NearestNeighbors\n",
        "\n",
        "nn = NearestNeighbors(n_neighbors=10, algorithm='ball_tree')\n",
        "\n",
        "# Fit on TF-IDF Vectors\n",
        "nn.fit(dense_feat_matrix)"
      ],
      "execution_count": 0,
      "outputs": []
    },
    {
      "cell_type": "code",
      "metadata": {
        "id": "CDNqDyITXTwN",
        "colab_type": "code",
        "colab": {}
      },
      "source": [
        "random_num = get_random_num()\n",
        "print(df.iloc[random_num].book_title)\n",
        "print(df.iloc[random_num].description)\n",
        "(print('\\n'))\n",
        "\n",
        "test_doc = [df.iloc[random_num].description]\n",
        "\n",
        "test_doc_transformed = tfidf.transform(test_doc).todense()\n",
        "\n",
        "# Query Using kneighbors:\n",
        "test_doc_nn = nn.kneighbors(test_doc_transformed)[1][0]\n",
        "\n",
        "for num in test_doc_nn:\n",
        "    print(df.iloc[num].book_title)"
      ],
      "execution_count": 0,
      "outputs": []
    },
    {
      "cell_type": "markdown",
      "metadata": {
        "id": "B-Y7yjggXTwW",
        "colab_type": "text"
      },
      "source": [
        "## Topic Modelling"
      ]
    },
    {
      "cell_type": "code",
      "metadata": {
        "id": "2S-mJSqDXTwc",
        "colab_type": "code",
        "colab": {}
      },
      "source": [
        "!pip install --upgrade pip"
      ],
      "execution_count": 0,
      "outputs": []
    },
    {
      "cell_type": "code",
      "metadata": {
        "id": "n0zPeFeBXTwl",
        "colab_type": "code",
        "colab": {}
      },
      "source": [
        "!pip install gensim"
      ],
      "execution_count": 0,
      "outputs": []
    },
    {
      "cell_type": "code",
      "metadata": {
        "id": "jRDhRpbPXTws",
        "colab_type": "code",
        "colab": {}
      },
      "source": [
        "from gensim.utils import simple_preprocess\n",
        "from gensim.parsing.preprocessing import STOPWORDS\n",
        "from gensim import corpora\n",
        "from gensim.models.ldamulticore import LdaMulticore\n",
        "from matplotlib import pyplot as plt\n",
        "from gensim.models.coherencemodel import CoherenceModel"
      ],
      "execution_count": 0,
      "outputs": []
    },
    {
      "cell_type": "code",
      "metadata": {
        "id": "Ec2v0pppXTwy",
        "colab_type": "code",
        "colab": {}
      },
      "source": [
        "def compute_coherence_values(tokens, id2word, corpus, limit, start=2, step=3):\n",
        "    coherence_values = {}\n",
        "    for num_topics in range(start, limit, step):\n",
        "        model = LdaMulticore(corpus=corpus, num_topics=num_topics, id2word=id2word, workers=4)\n",
        "        coherencemodel = CoherenceModel(model=model, texts=tokens, dictionary=id2word, coherence='c_v')\n",
        "        coherence_values[num_topics] = coherencemodel.get_coherence()\n",
        "    return coherence_values"
      ],
      "execution_count": 0,
      "outputs": []
    },
    {
      "cell_type": "code",
      "metadata": {
        "id": "te7zT_xxXTw5",
        "colab_type": "code",
        "colab": {},
        "outputId": "c26da297-7243-4d63-cf29-204cd5279020"
      },
      "source": [
        "%%time\n",
        "tokens = df['lemmas']\n",
        "\n",
        "#make the gensim dict:\n",
        "id2word = corpora.Dictionary(tokens)\n",
        "\n",
        "#make the corpus:\n",
        "corpus = [id2word.doc2bow(text) for text in tokens]\n",
        "\n",
        "#Call the function to calc the coherence values:\n",
        "c_values = compute_coherence_values(tokens, id2word, corpus, limit=71, start=30, step=5)"
      ],
      "execution_count": 0,
      "outputs": [
        {
          "output_type": "stream",
          "text": [
            "CPU times: user 3min 51s, sys: 1min 13s, total: 5min 5s\n",
            "Wall time: 4min 28s\n"
          ],
          "name": "stdout"
        }
      ]
    },
    {
      "cell_type": "code",
      "metadata": {
        "id": "rw3TzvkZXTxE",
        "colab_type": "code",
        "colab": {},
        "outputId": "8174b0ba-a650-4f2f-f4bf-3740ad0aed09"
      },
      "source": [
        "cv_series = pd.Series(c_values)\n",
        "cv_series.sort_values(ascending=False)"
      ],
      "execution_count": 0,
      "outputs": [
        {
          "output_type": "execute_result",
          "data": {
            "text/plain": [
              "65    0.461869\n",
              "60    0.458452\n",
              "30    0.456786\n",
              "45    0.455099\n",
              "50    0.454660\n",
              "35    0.454613\n",
              "70    0.452357\n",
              "55    0.449893\n",
              "40    0.449799\n",
              "dtype: float64"
            ]
          },
          "metadata": {
            "tags": []
          },
          "execution_count": 31
        }
      ]
    },
    {
      "cell_type": "code",
      "metadata": {
        "id": "_YeR4uOQXTxM",
        "colab_type": "code",
        "colab": {},
        "outputId": "58c5dd71-b02b-4559-82bc-8e86e5b139f8"
      },
      "source": [
        "# Show graph\n",
        "limit=71; start=30; step=5;\n",
        "\n",
        "x = cv_series.index\n",
        "y = cv_series.values\n",
        "\n",
        "plt.plot(x, y)\n",
        "plt.xlabel(\"Num Topics\")\n",
        "plt.ylabel(\"Coherence score\")\n",
        "plt.legend((\"coherence_values\"), loc='best')\n",
        "plt.show()"
      ],
      "execution_count": 0,
      "outputs": [
        {
          "output_type": "display_data",
          "data": {
            "image/png": "[encoded data removed]",
            "text/plain": [
              "<Figure size 432x288 with 1 Axes>"
            ]
          },
          "metadata": {
            "tags": []
          }
        }
      ]
    },
    {
      "cell_type": "code",
      "metadata": {
        "id": "kAtPUuGGXTxW",
        "colab_type": "code",
        "colab": {},
        "outputId": "f8aed372-ff58-4474-f85c-b53746435c08"
      },
      "source": [
        "%%time\n",
        "\n",
        "# Build LDA model\n",
        "num_topics = 65\n",
        "lda = LdaMulticore(corpus=corpus, id2word=id2word, random_state=42, num_topics=num_topics, passes=5, workers=4)"
      ],
      "execution_count": 0,
      "outputs": [
        {
          "output_type": "stream",
          "text": [
            "CPU times: user 2min 24s, sys: 1min 2s, total: 3min 27s\n",
            "Wall time: 2min 5s\n"
          ],
          "name": "stdout"
        }
      ]
    },
    {
      "cell_type": "code",
      "metadata": {
        "id": "fiVU1pUxXTxf",
        "colab_type": "code",
        "colab": {},
        "outputId": "61f4bbf2-1739-4840-fa3f-b75f9a94b3f8"
      },
      "source": [
        "# Print the Keyword in the 10 topics\n",
        "\n",
        "print(lda.print_topics())\n",
        "doc_lda = lda[corpus]"
      ],
      "execution_count": 0,
      "outputs": [
        {
          "output_type": "stream",
          "text": [
            "[(5, '0.087*\"de\" + 0.042*\"la\" + 0.034*\"que\" + 0.031*\"y\" + 0.026*\"el\" + 0.023*\"en\" + 0.017*\"un\" + 0.015*\"se\" + 0.015*\"una\" + 0.011*\"los\"'), (53, '0.012*\"life\" + 0.007*\"\\r\\r\\n\" + 0.005*\"work\" + 0.004*\"year\" + 0.004*\"book\" + 0.004*\"live\" + 0.004*\"world\" + 0.004*\"chance\" + 0.003*\"love\" + 0.003*\"dass\"'), (20, '0.007*\"\\r\\r\\n\" + 0.006*\"world\" + 0.005*\"book\" + 0.005*\"bir\" + 0.004*\"new\" + 0.004*\"find\" + 0.004*\"New\" + 0.004*\"story\" + 0.003*\"help\" + 0.003*\"Miles\"'), (27, '0.007*\"o\" + 0.006*\"de\" + 0.006*\"\\r\\r\\n\" + 0.005*\"great\" + 0.004*\"dragon\" + 0.004*\"grandfather\" + 0.004*\"roman\" + 0.004*\"know\" + 0.004*\"în\" + 0.003*\"un\"'), (26, '0.022*\"من\" + 0.022*\"في\" + 0.014*\"de\" + 0.012*\"على\" + 0.008*\"أن\" + 0.008*\"إلى\" + 0.007*\"هذا\" + 0.006*\"عن\" + 0.006*\"لا\" + 0.006*\"الكتاب\"'), (34, '0.008*\"\\r\\r\\n\" + 0.008*\"year\" + 0.007*\"’s\" + 0.007*\"life\" + 0.006*\"come\" + 0.006*\"child\" + 0.005*\"find\" + 0.004*\"world\" + 0.004*\"new\" + 0.004*\"love\"'), (49, '0.009*\"New\" + 0.009*\"’s\" + 0.008*\"world\" + 0.008*\"York\" + 0.008*\"\\r\\r\\n\" + 0.006*\"series\" + 0.005*\"Times\" + 0.005*\"bestselle\" + 0.005*\"novel\" + 0.005*\"year\"'), (15, '0.010*\"year\" + 0.008*\"life\" + 0.008*\"\\r\\r\\n\" + 0.007*\"story\" + 0.007*\"world\" + 0.007*\"’s\" + 0.005*\"old\" + 0.004*\"time\" + 0.004*\"war\" + 0.004*\"family\"'), (11, '0.008*\"\\r\\r\\n\" + 0.005*\"bir\" + 0.005*\"love\" + 0.004*\"life\" + 0.004*\"come\" + 0.004*\"’s\" + 0.004*\"year\" + 0.004*\"know\" + 0.004*\"heart\" + 0.004*\"series\"'), (2, '0.013*\"life\" + 0.008*\"\\r\\r\\n\" + 0.007*\"love\" + 0.005*\"year\" + 0.004*\"novel\" + 0.004*\"new\" + 0.004*\"man\" + 0.004*\"friend\" + 0.004*\"people\" + 0.003*\"parent\"'), (64, '0.010*\"life\" + 0.009*\"\\r\\r\\n\" + 0.008*\"know\" + 0.007*\"family\" + 0.007*\"year\" + 0.006*\"secret\" + 0.006*\"love\" + 0.005*\"day\" + 0.005*\"time\" + 0.004*\"find\"'), (63, '0.007*\"\\r\\r\\n\" + 0.007*\"story\" + 0.005*\"’s\" + 0.005*\"life\" + 0.004*\"New\" + 0.004*\"family\" + 0.004*\"York\" + 0.004*\"novel\" + 0.004*\"world\" + 0.004*\"know\"'), (33, '0.011*\"book\" + 0.010*\"life\" + 0.009*\"story\" + 0.008*\"\\r\\r\\n\" + 0.007*\"year\" + 0.006*\"reader\" + 0.006*\"world\" + 0.005*\"work\" + 0.005*\"include\" + 0.005*\"new\"'), (45, '0.007*\"\\r\\r\\n\" + 0.007*\"girl\" + 0.005*\"family\" + 0.005*\"want\" + 0.005*\"school\" + 0.005*\"new\" + 0.005*\"love\" + 0.004*\"New\" + 0.004*\"find\" + 0.004*\"little\"'), (0, '0.007*\"\\r\\r\\n\" + 0.007*\"life\" + 0.005*\"world\" + 0.005*\"new\" + 0.004*\"time\" + 0.004*\"year\" + 0.004*\"young\" + 0.004*\"’s\" + 0.003*\"know\" + 0.003*\"adventure\"'), (16, '0.008*\"\\r\\r\\n\" + 0.007*\"love\" + 0.005*\"novel\" + 0.005*\"find\" + 0.005*\"heart\" + 0.004*\"old\" + 0.004*\"life\" + 0.004*\"come\" + 0.004*\"world\" + 0.004*\"’s\"'), (35, '0.013*\"world\" + 0.008*\"\\r\\r\\n\" + 0.004*\"life\" + 0.004*\"new\" + 0.004*\"go\" + 0.003*\"year\" + 0.003*\"human\" + 0.003*\"turn\" + 0.003*\"find\" + 0.003*\"book\"'), (62, '0.009*\"\\r\\r\\n\" + 0.007*\"find\" + 0.007*\"life\" + 0.007*\"world\" + 0.006*\"’\" + 0.006*\"’s\" + 0.005*\"know\" + 0.005*\"cat\" + 0.005*\"year\" + 0.005*\"woman\"'), (61, '0.012*\"story\" + 0.009*\"’s\" + 0.007*\"\\r\\r\\n\" + 0.007*\"life\" + 0.006*\"man\" + 0.006*\"year\" + 0.006*\"novel\" + 0.005*\"world\" + 0.005*\"Asimov\" + 0.005*\"Isaac\"'), (13, '0.009*\"world\" + 0.008*\"\\r\\r\\n\" + 0.008*\"man\" + 0.008*\"find\" + 0.006*\"love\" + 0.006*\"life\" + 0.005*\"year\" + 0.005*\"woman\" + 0.004*\"dark\" + 0.004*\"time\"')]\n"
          ],
          "name": "stdout"
        }
      ]
    },
    {
      "cell_type": "code",
      "metadata": {
        "id": "lDzEyzH_XTxn",
        "colab_type": "code",
        "colab": {},
        "outputId": "ded7eea2-c26b-4abf-9805-ef691076facf"
      },
      "source": [
        "%%time\n",
        "# Compute Perplexity\n",
        "print('\\nPerplexity: ', lda.log_perplexity(corpus))  # a measure of how good the model is. lower the better."
      ],
      "execution_count": 0,
      "outputs": [
        {
          "output_type": "stream",
          "text": [
            "\n",
            "Perplexity:  -9.531930196941367\n",
            "CPU times: user 52.9 s, sys: 28 s, total: 1min 20s\n",
            "Wall time: 25.1 s\n"
          ],
          "name": "stdout"
        }
      ]
    },
    {
      "cell_type": "code",
      "metadata": {
        "id": "Qt3m9u7wXTxy",
        "colab_type": "code",
        "colab": {},
        "outputId": "401794b4-c8b9-466f-bcf4-c481bc9e815e"
      },
      "source": [
        "%%time\n",
        "# Compute Coherence Score\n",
        "coherence_model_lda = CoherenceModel(model=lda, texts=tokens, dictionary=id2word, coherence='c_v')\n",
        "coherence_lda = coherence_model_lda.get_coherence()\n",
        "print('\\nCoherence Score: ', coherence_lda)"
      ],
      "execution_count": 0,
      "outputs": [
        {
          "output_type": "stream",
          "text": [
            "\n",
            "Coherence Score:  0.47318318863197906\n",
            "CPU times: user 4.01 s, sys: 287 ms, total: 4.29 s\n",
            "Wall time: 14.1 s\n"
          ],
          "name": "stdout"
        }
      ]
    },
    {
      "cell_type": "code",
      "metadata": {
        "id": "DainlsWHXTx-",
        "colab_type": "code",
        "colab": {}
      },
      "source": [
        "def format_topics_sentences(ldamodel=lda, corpus=corpus, texts=tokens):\n",
        "    # Init output\n",
        "    sent_topics_df = pd.DataFrame()\n",
        "\n",
        "    # Get main topic in each document\n",
        "    for i, row in enumerate(ldamodel[corpus]):\n",
        "        row = sorted(row, key=lambda x: (x[1]), reverse=True)\n",
        "        # Get the Dominant topic, Perc Contribution and Keywords for each document\n",
        "        for j, (topic_num, prop_topic) in enumerate(row):\n",
        "            if j == 0:  # => dominant topic\n",
        "                wp = ldamodel.show_topic(topic_num)\n",
        "                topic_keywords = \", \".join([word for word, prop in wp])\n",
        "                sent_topics_df = sent_topics_df.append(pd.Series([int(topic_num), round(prop_topic,4), topic_keywords]), ignore_index=True)\n",
        "            else:\n",
        "                break\n",
        "    sent_topics_df.columns = ['Dominant_Topic', 'Perc_Contribution', 'Topic_Keywords']\n",
        "\n",
        "    # Add original text to the end of the output\n",
        "    contents = pd.Series(texts)\n",
        "    sent_topics_df = pd.concat([sent_topics_df, contents], axis=1)\n",
        "    return(sent_topics_df)"
      ],
      "execution_count": 0,
      "outputs": []
    },
    {
      "cell_type": "code",
      "metadata": {
        "id": "eVfsKu7aXTyD",
        "colab_type": "code",
        "colab": {},
        "outputId": "222f7a9d-d4d1-43e0-f750-2715eaaf6cc8"
      },
      "source": [
        "%%time\n",
        "\n",
        "df_topic_sents_keywords = format_topics_sentences(ldamodel=lda, corpus=corpus, texts=tokens[:100])\n",
        "\n",
        "# Format\n",
        "df_dominant_topic = df_topic_sents_keywords.reset_index()\n",
        "df_dominant_topic.columns = ['Document_No', 'Dominant_Topic', 'Topic_Perc_Contrib', 'Keywords', 'Text']\n",
        "\n",
        "# Show\n",
        "df_dominant_topic.head(10)"
      ],
      "execution_count": 0,
      "outputs": [
        {
          "output_type": "stream",
          "text": [
            "CPU times: user 3min 33s, sys: 47.5 s, total: 4min 20s\n",
            "Wall time: 2min 44s\n"
          ],
          "name": "stdout"
        }
      ]
    },
    {
      "cell_type": "code",
      "metadata": {
        "id": "Dd1L2v7JXTyS",
        "colab_type": "code",
        "colab": {},
        "outputId": "00dea1d4-afd4-45cc-dbac-ed92d35cfd3e"
      },
      "source": [
        "df_dominant_topic.head(10)"
      ],
      "execution_count": 0,
      "outputs": [
        {
          "output_type": "execute_result",
          "data": {
            "text/html": [
              "<div>\n",
              "<style scoped>\n",
              "    .dataframe tbody tr th:only-of-type {\n",
              "        vertical-align: middle;\n",
              "    }\n",
              "\n",
              "    .dataframe tbody tr th {\n",
              "        vertical-align: top;\n",
              "    }\n",
              "\n",
              "    .dataframe thead th {\n",
              "        text-align: right;\n",
              "    }\n",
              "</style>\n",
              "<table border=\"1\" class=\"dataframe\">\n",
              "  <thead>\n",
              "    <tr style=\"text-align: right;\">\n",
              "      <th></th>\n",
              "      <th>Document_No</th>\n",
              "      <th>Dominant_Topic</th>\n",
              "      <th>Topic_Perc_Contrib</th>\n",
              "      <th>Keywords</th>\n",
              "      <th>Text</th>\n",
              "    </tr>\n",
              "  </thead>\n",
              "  <tbody>\n",
              "    <tr>\n",
              "      <th>0</th>\n",
              "      <td>0</td>\n",
              "      <td>57.0</td>\n",
              "      <td>0.5569</td>\n",
              "      <td>life, \\r\\r\\n, world, story, day, know, death, ...</td>\n",
              "      <td>[survive, wild, sure, live, morning?in, ruin, ...</td>\n",
              "    </tr>\n",
              "    <tr>\n",
              "      <th>1</th>\n",
              "      <td>1</td>\n",
              "      <td>25.0</td>\n",
              "      <td>0.2282</td>\n",
              "      <td>’s, \\r\\r\\n, Harry, life, find, love, Weston, y...</td>\n",
              "      <td>[door, end, silent, corridor, ’, haunt, Harry,...</td>\n",
              "    </tr>\n",
              "    <tr>\n",
              "      <th>2</th>\n",
              "      <td>2</td>\n",
              "      <td>33.0</td>\n",
              "      <td>0.3496</td>\n",
              "      <td>book, life, story, \\r\\r\\n, year, reader, world...</td>\n",
              "      <td>[unforgettable, novel, childhood, sleepy, sout...</td>\n",
              "    </tr>\n",
              "    <tr>\n",
              "      <th>3</th>\n",
              "      <td>3</td>\n",
              "      <td>37.0</td>\n",
              "      <td>0.6133</td>\n",
              "      <td>’, life, \\r\\r\\n, year,   , know, good, like, ’...</td>\n",
              "      <td>[alternate, cover, edition, ISBN, 978067978326...</td>\n",
              "    </tr>\n",
              "    <tr>\n",
              "      <th>4</th>\n",
              "      <td>4</td>\n",
              "      <td>64.0</td>\n",
              "      <td>0.6330</td>\n",
              "      <td>life, \\r\\r\\n, know, family, year, secret, love...</td>\n",
              "      <td>[thing, absolutely, positive, Edward, vampire,...</td>\n",
              "    </tr>\n",
              "    <tr>\n",
              "      <th>5</th>\n",
              "      <td>5</td>\n",
              "      <td>56.0</td>\n",
              "      <td>0.9910</td>\n",
              "      <td>’, not, world, \\r\\r\\n, life, go, girl, find, y...</td>\n",
              "      <td>[1939, Nazi, Germany, country, hold, breath, d...</td>\n",
              "    </tr>\n",
              "    <tr>\n",
              "      <th>6</th>\n",
              "      <td>6</td>\n",
              "      <td>27.0</td>\n",
              "      <td>0.3349</td>\n",
              "      <td>o, de, \\r\\r\\n, great, dragon, grandfather, rom...</td>\n",
              "      <td>[George, Orwell, timeless, timely, allegorical...</td>\n",
              "    </tr>\n",
              "    <tr>\n",
              "      <th>7</th>\n",
              "      <td>7</td>\n",
              "      <td>33.0</td>\n",
              "      <td>0.2420</td>\n",
              "      <td>book, life, story, \\r\\r\\n, year, reader, world...</td>\n",
              "      <td>[journey, end, world, fantastic, creature, epi...</td>\n",
              "    </tr>\n",
              "    <tr>\n",
              "      <th>8</th>\n",
              "      <td>8</td>\n",
              "      <td>15.0</td>\n",
              "      <td>0.2555</td>\n",
              "      <td>year, life, \\r\\r\\n, story, world, ’s, old, tim...</td>\n",
              "      <td>[volume, box, set, contain, J.R.R., Tolkien, e...</td>\n",
              "    </tr>\n",
              "    <tr>\n",
              "      <th>9</th>\n",
              "      <td>9</td>\n",
              "      <td>6.0</td>\n",
              "      <td>0.3199</td>\n",
              "      <td>life, \\r\\r\\n, novel, love, year, man, new, fam...</td>\n",
              "      <td>[Margaret, Mitchell, monumental, epic, South, ...</td>\n",
              "    </tr>\n",
              "  </tbody>\n",
              "</table>\n",
              "</div>"
            ],
            "text/plain": [
              "   Document_No  Dominant_Topic  Topic_Perc_Contrib  \\\n",
              "0            0            57.0              0.5569   \n",
              "1            1            25.0              0.2282   \n",
              "2            2            33.0              0.3496   \n",
              "3            3            37.0              0.6133   \n",
              "4            4            64.0              0.6330   \n",
              "5            5            56.0              0.9910   \n",
              "6            6            27.0              0.3349   \n",
              "7            7            33.0              0.2420   \n",
              "8            8            15.0              0.2555   \n",
              "9            9             6.0              0.3199   \n",
              "\n",
              "                                            Keywords  \\\n",
              "0  life, \\r\\r\\n, world, story, day, know, death, ...   \n",
              "1  ’s, \\r\\r\\n, Harry, life, find, love, Weston, y...   \n",
              "2  book, life, story, \\r\\r\\n, year, reader, world...   \n",
              "3  ’, life, \\r\\r\\n, year,   , know, good, like, ’...   \n",
              "4  life, \\r\\r\\n, know, family, year, secret, love...   \n",
              "5  ’, not, world, \\r\\r\\n, life, go, girl, find, y...   \n",
              "6  o, de, \\r\\r\\n, great, dragon, grandfather, rom...   \n",
              "7  book, life, story, \\r\\r\\n, year, reader, world...   \n",
              "8  year, life, \\r\\r\\n, story, world, ’s, old, tim...   \n",
              "9  life, \\r\\r\\n, novel, love, year, man, new, fam...   \n",
              "\n",
              "                                                Text  \n",
              "0  [survive, wild, sure, live, morning?in, ruin, ...  \n",
              "1  [door, end, silent, corridor, ’, haunt, Harry,...  \n",
              "2  [unforgettable, novel, childhood, sleepy, sout...  \n",
              "3  [alternate, cover, edition, ISBN, 978067978326...  \n",
              "4  [thing, absolutely, positive, Edward, vampire,...  \n",
              "5  [1939, Nazi, Germany, country, hold, breath, d...  \n",
              "6  [George, Orwell, timeless, timely, allegorical...  \n",
              "7  [journey, end, world, fantastic, creature, epi...  \n",
              "8  [volume, box, set, contain, J.R.R., Tolkien, e...  \n",
              "9  [Margaret, Mitchell, monumental, epic, South, ...  "
            ]
          },
          "metadata": {
            "tags": []
          },
          "execution_count": 66
        }
      ]
    },
    {
      "cell_type": "code",
      "metadata": {
        "id": "leVg4H_cXTyb",
        "colab_type": "code",
        "colab": {}
      },
      "source": [
        ""
      ],
      "execution_count": 0,
      "outputs": []
    }
  ]
}